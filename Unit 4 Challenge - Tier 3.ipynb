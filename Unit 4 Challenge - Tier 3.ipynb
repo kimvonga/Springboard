{
 "cells": [
  {
   "cell_type": "markdown",
   "metadata": {
    "colab_type": "text",
    "id": "Tia3MP1SJpgj"
   },
   "source": [
    "# Springboard Data Science Career Track Unit 4 Challenge - Tier 3 Complete\n",
    "\n",
    "## Objectives\n",
    "Hey! Great job getting through those challenging DataCamp courses. You're learning a lot in a short span of time. \n",
    "\n",
    "In this notebook, you're going to apply the skills you've been learning, bridging the gap between the controlled environment of DataCamp and the *slightly* messier work that data scientists do with actual datasets!\n",
    "\n",
    "Here’s the mystery we’re going to solve: ***which boroughs of London have seen the greatest increase in housing prices, on average, over the last two decades?***\n",
    "\n",
    "\n",
    "A borough is just a fancy word for district. You may be familiar with the five boroughs of New York… well, there are 32 boroughs within Greater London [(here's some info for the curious)](https://en.wikipedia.org/wiki/London_boroughs). Some of them are more desirable areas to live in, and the data will reflect that with a greater rise in housing prices.\n",
    "\n",
    "***This is the Tier 3 notebook, which means it's not filled in at all: we'll just give you the skeleton of a project, the brief and the data. It's up to you to play around with it and see what you can find out! Good luck! If you struggle, feel free to look at easier tiers for help; but try to dip in and out of them, as the more independent work you do, the better it is for your learning!***\n",
    "\n",
    "This challenge will make use of only what you learned in the following DataCamp courses: \n",
    "- Prework courses (Introduction to Python for Data Science, Intermediate Python for Data Science)\n",
    "- Data Types for Data Science\n",
    "- Python Data Science Toolbox (Part One) \n",
    "- pandas Foundations\n",
    "- Manipulating DataFrames with pandas\n",
    "- Merging DataFrames with pandas\n",
    "\n",
    "Of the tools, techniques and concepts in the above DataCamp courses, this challenge should require the application of the following: \n",
    "- **pandas**\n",
    "    - **data ingestion and inspection** (pandas Foundations, Module One) \n",
    "    - **exploratory data analysis** (pandas Foundations, Module Two)\n",
    "    - **tidying and cleaning** (Manipulating DataFrames with pandas, Module Three) \n",
    "    - **transforming DataFrames** (Manipulating DataFrames with pandas, Module One)\n",
    "    - **subsetting DataFrames with lists** (Manipulating DataFrames with pandas, Module One) \n",
    "    - **filtering DataFrames** (Manipulating DataFrames with pandas, Module One) \n",
    "    - **grouping data** (Manipulating DataFrames with pandas, Module Four) \n",
    "    - **melting data** (Manipulating DataFrames with pandas, Module Three) \n",
    "    - **advanced indexing** (Manipulating DataFrames with pandas, Module Four) \n",
    "- **matplotlib** (Intermediate Python for Data Science, Module One)\n",
    "- **fundamental data types** (Data Types for Data Science, Module One) \n",
    "- **dictionaries** (Intermediate Python for Data Science, Module Two)\n",
    "- **handling dates and times** (Data Types for Data Science, Module Four)\n",
    "- **function definition** (Python Data Science Toolbox - Part One, Module One)\n",
    "- **default arguments, variable length, and scope** (Python Data Science Toolbox - Part One, Module Two) \n",
    "- **lambda functions and error handling** (Python Data Science Toolbox - Part One, Module Four) "
   ]
  },
  {
   "cell_type": "markdown",
   "metadata": {
    "colab_type": "text",
    "id": "Ipgd2nV8Jpgl"
   },
   "source": [
    "## The Data Science Pipeline\n",
    "\n",
    "This is Tier Three, so we'll get you started. But after that, it's all in your hands! When you feel done with your investigations, look back over what you've accomplished, and prepare a quick presentation of your findings for the next mentor meeting. \n",
    "\n",
    "Data Science is magical. In this case study, you'll get to apply some complex machine learning algorithms. But as  [David Spiegelhalter](https://www.youtube.com/watch?v=oUs1uvsz0Ok) reminds us, there is no substitute for simply **taking a really, really good look at the data.** Sometimes, this is all we need to answer our question.\n",
    "\n",
    "Data Science projects generally adhere to the four stages of Data Science Pipeline:\n",
    "1. Sourcing and loading \n",
    "2. Cleaning, transforming, and visualizing \n",
    "3. Modeling \n",
    "4. Evaluating and concluding \n"
   ]
  },
  {
   "cell_type": "markdown",
   "metadata": {
    "colab_type": "text",
    "id": "zswDqbefJpgm"
   },
   "source": [
    "### 1. Sourcing and Loading \n",
    "\n",
    "Any Data Science project kicks off by importing  ***pandas***. The documentation of this wonderful library can be found [here](https://pandas.pydata.org/). As you've seen, pandas is conveniently connected to the [Numpy](http://www.numpy.org/) and [Matplotlib](https://matplotlib.org/) libraries. \n",
    "\n",
    "***Hint:*** This part of the data science pipeline will test those skills you acquired in the pandas Foundations course, Module One. "
   ]
  },
  {
   "cell_type": "markdown",
   "metadata": {
    "colab_type": "text",
    "id": "aEau5nEvJpgm"
   },
   "source": [
    "#### 1.1. Importing Libraries"
   ]
  },
  {
   "cell_type": "code",
   "execution_count": 1,
   "metadata": {
    "colab": {},
    "colab_type": "code",
    "id": "7Bt_Q_oPJpgn"
   },
   "outputs": [],
   "source": [
    "import numpy as np\n",
    "import pandas as pd\n",
    "import matplotlib.pyplot as plt"
   ]
  },
  {
   "cell_type": "markdown",
   "metadata": {
    "colab_type": "text",
    "id": "koUrawxsJpgq"
   },
   "source": [
    "#### 1.2.  Loading the data\n",
    "Your data comes from the [London Datastore](https://data.london.gov.uk/): a free, open-source data-sharing portal for London-oriented datasets. "
   ]
  },
  {
   "cell_type": "code",
   "execution_count": 2,
   "metadata": {
    "colab": {},
    "colab_type": "code",
    "id": "AiLiD4v3Jpgr"
   },
   "outputs": [],
   "source": [
    "url_LondonHousePrices = \"https://data.london.gov.uk/download/uk-house-price-index/70ac0766-8902-4eb5-aab5-01951aaed773/UK%20House%20price%20index.xls\"\n",
    "\n",
    "# The dataset we're interested in contains the Average prices of the houses, and is actually on a particular sheet of the Excel file. \n",
    "# As a result, we need to specify the sheet name in the read_excel() method.\n",
    "# Put this data into a variable called properties.  \n",
    "properties = pd.read_excel(url_LondonHousePrices, sheet_name='Average price', index_col= None)"
   ]
  },
  {
   "cell_type": "markdown",
   "metadata": {
    "colab_type": "text",
    "id": "POukEJXgJpgu"
   },
   "source": [
    "### 2. Cleaning, transforming, and visualizing\n",
    "This second stage is arguably the most important part of any Data Science project. The first thing to do is take a proper look at the data. Cleaning forms the majority of this stage, and can be done both before or after Transformation.\n",
    "\n",
    "The end goal of data cleaning is to have tidy data. When data is tidy: \n",
    "\n",
    "1. Each variable has a column.\n",
    "2. Each observation forms a row.\n",
    "\n",
    "Keep the end goal in mind as you move through this process, every step will take you closer. \n",
    "\n",
    "\n",
    "\n",
    "***Hint:*** This part of the data science pipeline should test those skills you acquired in: \n",
    "- Intermediate Python for data science, all modules.\n",
    "- pandas Foundations, all modules. \n",
    "- Manipulating DataFrames with pandas, all modules.\n",
    "- Data Types for Data Science, Module Four.\n",
    "- Python Data Science Toolbox - Part One, all modules"
   ]
  },
  {
   "cell_type": "markdown",
   "metadata": {
    "colab_type": "text",
    "id": "Te0Q548tnzZa"
   },
   "source": [
    "**2.1. Exploring your data** \n",
    "\n",
    "Think about your pandas functions for checking out a dataframe. "
   ]
  },
  {
   "cell_type": "code",
   "execution_count": 3,
   "metadata": {},
   "outputs": [
    {
     "data": {
      "text/html": [
       "<div>\n",
       "<style scoped>\n",
       "    .dataframe tbody tr th:only-of-type {\n",
       "        vertical-align: middle;\n",
       "    }\n",
       "\n",
       "    .dataframe tbody tr th {\n",
       "        vertical-align: top;\n",
       "    }\n",
       "\n",
       "    .dataframe thead th {\n",
       "        text-align: right;\n",
       "    }\n",
       "</style>\n",
       "<table border=\"1\" class=\"dataframe\">\n",
       "  <thead>\n",
       "    <tr style=\"text-align: right;\">\n",
       "      <th></th>\n",
       "      <th>Unnamed: 0</th>\n",
       "      <th>City of London</th>\n",
       "      <th>Barking &amp; Dagenham</th>\n",
       "      <th>Barnet</th>\n",
       "      <th>Bexley</th>\n",
       "      <th>Brent</th>\n",
       "      <th>Bromley</th>\n",
       "      <th>Camden</th>\n",
       "      <th>Croydon</th>\n",
       "      <th>Ealing</th>\n",
       "      <th>...</th>\n",
       "      <th>NORTH WEST</th>\n",
       "      <th>YORKS &amp; THE HUMBER</th>\n",
       "      <th>EAST MIDLANDS</th>\n",
       "      <th>WEST MIDLANDS</th>\n",
       "      <th>EAST OF ENGLAND</th>\n",
       "      <th>LONDON</th>\n",
       "      <th>SOUTH EAST</th>\n",
       "      <th>SOUTH WEST</th>\n",
       "      <th>Unnamed: 47</th>\n",
       "      <th>England</th>\n",
       "    </tr>\n",
       "  </thead>\n",
       "  <tbody>\n",
       "    <tr>\n",
       "      <th>0</th>\n",
       "      <td>NaT</td>\n",
       "      <td>E09000001</td>\n",
       "      <td>E09000002</td>\n",
       "      <td>E09000003</td>\n",
       "      <td>E09000004</td>\n",
       "      <td>E09000005</td>\n",
       "      <td>E09000006</td>\n",
       "      <td>E09000007</td>\n",
       "      <td>E09000008</td>\n",
       "      <td>E09000009</td>\n",
       "      <td>...</td>\n",
       "      <td>E12000002</td>\n",
       "      <td>E12000003</td>\n",
       "      <td>E12000004</td>\n",
       "      <td>E12000005</td>\n",
       "      <td>E12000006</td>\n",
       "      <td>E12000007</td>\n",
       "      <td>E12000008</td>\n",
       "      <td>E12000009</td>\n",
       "      <td>NaN</td>\n",
       "      <td>E92000001</td>\n",
       "    </tr>\n",
       "    <tr>\n",
       "      <th>1</th>\n",
       "      <td>1995-01-01</td>\n",
       "      <td>91448.98487</td>\n",
       "      <td>50460.2266</td>\n",
       "      <td>93284.51832</td>\n",
       "      <td>64958.09036</td>\n",
       "      <td>71306.56698</td>\n",
       "      <td>81671.47692</td>\n",
       "      <td>120932.8881</td>\n",
       "      <td>69158.16225</td>\n",
       "      <td>79885.89069</td>\n",
       "      <td>...</td>\n",
       "      <td>43958.48001</td>\n",
       "      <td>44803.42878</td>\n",
       "      <td>45544.52227</td>\n",
       "      <td>48527.52339</td>\n",
       "      <td>56701.5961</td>\n",
       "      <td>74435.76052</td>\n",
       "      <td>64018.87894</td>\n",
       "      <td>54705.1579</td>\n",
       "      <td>NaN</td>\n",
       "      <td>53202.77128</td>\n",
       "    </tr>\n",
       "    <tr>\n",
       "      <th>2</th>\n",
       "      <td>1995-02-01</td>\n",
       "      <td>82202.77314</td>\n",
       "      <td>51085.77983</td>\n",
       "      <td>93190.16963</td>\n",
       "      <td>64787.92069</td>\n",
       "      <td>72022.26197</td>\n",
       "      <td>81657.55944</td>\n",
       "      <td>119508.8622</td>\n",
       "      <td>68951.09542</td>\n",
       "      <td>80897.06551</td>\n",
       "      <td>...</td>\n",
       "      <td>43925.42289</td>\n",
       "      <td>44528.80721</td>\n",
       "      <td>46051.57066</td>\n",
       "      <td>49341.29029</td>\n",
       "      <td>56593.59475</td>\n",
       "      <td>72777.93709</td>\n",
       "      <td>63715.02399</td>\n",
       "      <td>54356.14843</td>\n",
       "      <td>NaN</td>\n",
       "      <td>53096.1549</td>\n",
       "    </tr>\n",
       "  </tbody>\n",
       "</table>\n",
       "<p>3 rows × 49 columns</p>\n",
       "</div>"
      ],
      "text/plain": [
       "  Unnamed: 0 City of London Barking & Dagenham       Barnet       Bexley  \\\n",
       "0        NaT      E09000001          E09000002    E09000003    E09000004   \n",
       "1 1995-01-01    91448.98487         50460.2266  93284.51832  64958.09036   \n",
       "2 1995-02-01    82202.77314        51085.77983  93190.16963  64787.92069   \n",
       "\n",
       "         Brent      Bromley       Camden      Croydon       Ealing  ...  \\\n",
       "0    E09000005    E09000006    E09000007    E09000008    E09000009  ...   \n",
       "1  71306.56698  81671.47692  120932.8881  69158.16225  79885.89069  ...   \n",
       "2  72022.26197  81657.55944  119508.8622  68951.09542  80897.06551  ...   \n",
       "\n",
       "    NORTH WEST YORKS & THE HUMBER EAST MIDLANDS WEST MIDLANDS EAST OF ENGLAND  \\\n",
       "0    E12000002          E12000003     E12000004     E12000005       E12000006   \n",
       "1  43958.48001        44803.42878   45544.52227   48527.52339      56701.5961   \n",
       "2  43925.42289        44528.80721   46051.57066   49341.29029     56593.59475   \n",
       "\n",
       "        LONDON   SOUTH EAST   SOUTH WEST Unnamed: 47      England  \n",
       "0    E12000007    E12000008    E12000009         NaN    E92000001  \n",
       "1  74435.76052  64018.87894   54705.1579         NaN  53202.77128  \n",
       "2  72777.93709  63715.02399  54356.14843         NaN   53096.1549  \n",
       "\n",
       "[3 rows x 49 columns]"
      ]
     },
     "execution_count": 3,
     "metadata": {},
     "output_type": "execute_result"
    }
   ],
   "source": [
    "properties.head(3)"
   ]
  },
  {
   "cell_type": "code",
   "execution_count": 4,
   "metadata": {},
   "outputs": [
    {
     "data": {
      "text/plain": [
       "(344, 49)"
      ]
     },
     "execution_count": 4,
     "metadata": {},
     "output_type": "execute_result"
    }
   ],
   "source": [
    "properties.shape"
   ]
  },
  {
   "cell_type": "code",
   "execution_count": 5,
   "metadata": {
    "colab": {},
    "colab_type": "code",
    "id": "Rxirxw_qoAJa",
    "scrolled": true
   },
   "outputs": [
    {
     "data": {
      "text/plain": [
       "Unnamed: 0                1\n",
       "City of London            0\n",
       "Barking & Dagenham        0\n",
       "Barnet                    0\n",
       "Bexley                    0\n",
       "Brent                     0\n",
       "Bromley                   0\n",
       "Camden                    0\n",
       "Croydon                   0\n",
       "Ealing                    0\n",
       "Enfield                   0\n",
       "Greenwich                 0\n",
       "Hackney                   0\n",
       "Hammersmith & Fulham      0\n",
       "Haringey                  0\n",
       "Harrow                    0\n",
       "Havering                  0\n",
       "Hillingdon                0\n",
       "Hounslow                  0\n",
       "Islington                 0\n",
       "Kensington & Chelsea      0\n",
       "Kingston upon Thames      0\n",
       "Lambeth                   0\n",
       "Lewisham                  0\n",
       "Merton                    0\n",
       "Newham                    0\n",
       "Redbridge                 0\n",
       "Richmond upon Thames      0\n",
       "Southwark                 0\n",
       "Sutton                    0\n",
       "Tower Hamlets             0\n",
       "Waltham Forest            0\n",
       "Wandsworth                0\n",
       "Westminster               0\n",
       "Unnamed: 34             344\n",
       "Inner London              0\n",
       "Outer London              0\n",
       "Unnamed: 37             344\n",
       "NORTH EAST                0\n",
       "NORTH WEST                0\n",
       "YORKS & THE HUMBER        0\n",
       "EAST MIDLANDS             0\n",
       "WEST MIDLANDS             0\n",
       "EAST OF ENGLAND           0\n",
       "LONDON                    0\n",
       "SOUTH EAST                0\n",
       "SOUTH WEST                0\n",
       "Unnamed: 47             344\n",
       "England                   0\n",
       "dtype: int64"
      ]
     },
     "execution_count": 5,
     "metadata": {},
     "output_type": "execute_result"
    }
   ],
   "source": [
    "properties.isnull().sum()"
   ]
  },
  {
   "cell_type": "markdown",
   "metadata": {},
   "source": [
    "3 columns \\[Unnamed:34, Unnamed:37, Unnamed: 47\\] are empty and can be removed.\n",
    "\n",
    "The first row contains postal codes and can be removed as well, or at the very least separated and stored as a dictionary.\n",
    "\n",
    "The first column is the date."
   ]
  },
  {
   "cell_type": "markdown",
   "metadata": {
    "colab_type": "text",
    "id": "tE9Sqt9-oAta"
   },
   "source": [
    "**2.2. Cleaning the data**\n",
    "\n",
    "You might find you need to transpose your dataframe, check out what its row indexes are, and reset the index. You  also might find you need to assign the values of the first row to your column headings  . (Hint: recall the .columns feature of DataFrames, as well as the iloc[] method).\n",
    "\n",
    "Don't be afraid to use StackOverflow for help  with this."
   ]
  },
  {
   "cell_type": "code",
   "execution_count": 6,
   "metadata": {},
   "outputs": [],
   "source": [
    "'''\n",
    "Three things need to be done\n",
    "(1) remove empty columns ['Unnamed:34', 'Unnamed:37', 'Unnamed:47'] and non-boroughs\n",
    "(2) separate postal codes as a dictionary, postal codes are found in the first row\n",
    "(3) need to reset the index to the first column\n",
    "    choosing to set 2 indices for year and month\n",
    "'''\n",
    "drop_cols = ['Unnamed: 34', 'Unnamed: 37', 'Unnamed: 47', 'Inner London', 'Outer London', 'NORTH EAST', \n",
    "             'NORTH WEST', 'YORKS & THE HUMBER', 'EAST MIDLANDS', 'WEST MIDLANDS', 'EAST OF ENGLAND', \n",
    "             'LONDON', 'SOUTH EAST', 'SOUTH WEST', 'England', 'City of London']\n",
    "properties = properties.drop(drop_cols, axis=1)\n",
    "properties_code = dict(zip(properties.iloc[0].index[1:], properties.iloc[0].values[1:]))\n",
    "properties = properties.drop(0)\n",
    "properties['Year'] = properties['Unnamed: 0'].dt.year\n",
    "properties['Month'] = properties['Unnamed: 0'].dt.month\n",
    "properties = properties.drop('Unnamed: 0', axis=1)\n",
    "properties = properties.set_index(['Year', 'Month'])"
   ]
  },
  {
   "cell_type": "code",
   "execution_count": 7,
   "metadata": {},
   "outputs": [
    {
     "data": {
      "text/html": [
       "<div>\n",
       "<style scoped>\n",
       "    .dataframe tbody tr th:only-of-type {\n",
       "        vertical-align: middle;\n",
       "    }\n",
       "\n",
       "    .dataframe tbody tr th {\n",
       "        vertical-align: top;\n",
       "    }\n",
       "\n",
       "    .dataframe thead th {\n",
       "        text-align: right;\n",
       "    }\n",
       "</style>\n",
       "<table border=\"1\" class=\"dataframe\">\n",
       "  <thead>\n",
       "    <tr style=\"text-align: right;\">\n",
       "      <th></th>\n",
       "      <th></th>\n",
       "      <th>Barking &amp; Dagenham</th>\n",
       "      <th>Barnet</th>\n",
       "      <th>Bexley</th>\n",
       "      <th>Brent</th>\n",
       "      <th>Bromley</th>\n",
       "      <th>Camden</th>\n",
       "      <th>Croydon</th>\n",
       "      <th>Ealing</th>\n",
       "      <th>Enfield</th>\n",
       "      <th>Greenwich</th>\n",
       "      <th>...</th>\n",
       "      <th>Merton</th>\n",
       "      <th>Newham</th>\n",
       "      <th>Redbridge</th>\n",
       "      <th>Richmond upon Thames</th>\n",
       "      <th>Southwark</th>\n",
       "      <th>Sutton</th>\n",
       "      <th>Tower Hamlets</th>\n",
       "      <th>Waltham Forest</th>\n",
       "      <th>Wandsworth</th>\n",
       "      <th>Westminster</th>\n",
       "    </tr>\n",
       "    <tr>\n",
       "      <th>Year</th>\n",
       "      <th>Month</th>\n",
       "      <th></th>\n",
       "      <th></th>\n",
       "      <th></th>\n",
       "      <th></th>\n",
       "      <th></th>\n",
       "      <th></th>\n",
       "      <th></th>\n",
       "      <th></th>\n",
       "      <th></th>\n",
       "      <th></th>\n",
       "      <th></th>\n",
       "      <th></th>\n",
       "      <th></th>\n",
       "      <th></th>\n",
       "      <th></th>\n",
       "      <th></th>\n",
       "      <th></th>\n",
       "      <th></th>\n",
       "      <th></th>\n",
       "      <th></th>\n",
       "      <th></th>\n",
       "    </tr>\n",
       "  </thead>\n",
       "  <tbody>\n",
       "    <tr>\n",
       "      <th rowspan=\"3\" valign=\"top\">1995</th>\n",
       "      <th>1</th>\n",
       "      <td>50460.2266</td>\n",
       "      <td>93284.51832</td>\n",
       "      <td>64958.09036</td>\n",
       "      <td>71306.56698</td>\n",
       "      <td>81671.47692</td>\n",
       "      <td>120932.8881</td>\n",
       "      <td>69158.16225</td>\n",
       "      <td>79885.89069</td>\n",
       "      <td>72514.69096</td>\n",
       "      <td>62300.10169</td>\n",
       "      <td>...</td>\n",
       "      <td>82070.6133</td>\n",
       "      <td>53539.31919</td>\n",
       "      <td>72189.58437</td>\n",
       "      <td>109326.1245</td>\n",
       "      <td>67885.20344</td>\n",
       "      <td>71536.97357</td>\n",
       "      <td>59865.18995</td>\n",
       "      <td>61319.44913</td>\n",
       "      <td>88559.04381</td>\n",
       "      <td>133025.2772</td>\n",
       "    </tr>\n",
       "    <tr>\n",
       "      <th>2</th>\n",
       "      <td>51085.77983</td>\n",
       "      <td>93190.16963</td>\n",
       "      <td>64787.92069</td>\n",
       "      <td>72022.26197</td>\n",
       "      <td>81657.55944</td>\n",
       "      <td>119508.8622</td>\n",
       "      <td>68951.09542</td>\n",
       "      <td>80897.06551</td>\n",
       "      <td>73155.19746</td>\n",
       "      <td>60993.26863</td>\n",
       "      <td>...</td>\n",
       "      <td>79982.74872</td>\n",
       "      <td>53153.88306</td>\n",
       "      <td>72141.6261</td>\n",
       "      <td>111103.0394</td>\n",
       "      <td>64799.0648</td>\n",
       "      <td>70893.20851</td>\n",
       "      <td>62318.53353</td>\n",
       "      <td>60252.12246</td>\n",
       "      <td>88641.01678</td>\n",
       "      <td>131468.3096</td>\n",
       "    </tr>\n",
       "    <tr>\n",
       "      <th>3</th>\n",
       "      <td>51268.96956</td>\n",
       "      <td>92247.52435</td>\n",
       "      <td>64367.49344</td>\n",
       "      <td>72015.76274</td>\n",
       "      <td>81449.31143</td>\n",
       "      <td>120282.2131</td>\n",
       "      <td>68712.44341</td>\n",
       "      <td>81379.86288</td>\n",
       "      <td>72190.44144</td>\n",
       "      <td>61377.83464</td>\n",
       "      <td>...</td>\n",
       "      <td>80661.68279</td>\n",
       "      <td>53458.26393</td>\n",
       "      <td>72501.35502</td>\n",
       "      <td>107325.4742</td>\n",
       "      <td>65763.29719</td>\n",
       "      <td>70306.83844</td>\n",
       "      <td>63938.67686</td>\n",
       "      <td>60871.08493</td>\n",
       "      <td>87124.81523</td>\n",
       "      <td>132260.3417</td>\n",
       "    </tr>\n",
       "  </tbody>\n",
       "</table>\n",
       "<p>3 rows × 32 columns</p>\n",
       "</div>"
      ],
      "text/plain": [
       "           Barking & Dagenham       Barnet       Bexley        Brent  \\\n",
       "Year Month                                                             \n",
       "1995 1             50460.2266  93284.51832  64958.09036  71306.56698   \n",
       "     2            51085.77983  93190.16963  64787.92069  72022.26197   \n",
       "     3            51268.96956  92247.52435  64367.49344  72015.76274   \n",
       "\n",
       "                Bromley       Camden      Croydon       Ealing      Enfield  \\\n",
       "Year Month                                                                    \n",
       "1995 1      81671.47692  120932.8881  69158.16225  79885.89069  72514.69096   \n",
       "     2      81657.55944  119508.8622  68951.09542  80897.06551  73155.19746   \n",
       "     3      81449.31143  120282.2131  68712.44341  81379.86288  72190.44144   \n",
       "\n",
       "              Greenwich  ...       Merton       Newham    Redbridge  \\\n",
       "Year Month               ...                                          \n",
       "1995 1      62300.10169  ...   82070.6133  53539.31919  72189.58437   \n",
       "     2      60993.26863  ...  79982.74872  53153.88306   72141.6261   \n",
       "     3      61377.83464  ...  80661.68279  53458.26393  72501.35502   \n",
       "\n",
       "           Richmond upon Thames    Southwark       Sutton Tower Hamlets  \\\n",
       "Year Month                                                                \n",
       "1995 1              109326.1245  67885.20344  71536.97357   59865.18995   \n",
       "     2              111103.0394   64799.0648  70893.20851   62318.53353   \n",
       "     3              107325.4742  65763.29719  70306.83844   63938.67686   \n",
       "\n",
       "           Waltham Forest   Wandsworth  Westminster  \n",
       "Year Month                                           \n",
       "1995 1        61319.44913  88559.04381  133025.2772  \n",
       "     2        60252.12246  88641.01678  131468.3096  \n",
       "     3        60871.08493  87124.81523  132260.3417  \n",
       "\n",
       "[3 rows x 32 columns]"
      ]
     },
     "execution_count": 7,
     "metadata": {},
     "output_type": "execute_result"
    }
   ],
   "source": [
    "properties.head(3)"
   ]
  },
  {
   "cell_type": "markdown",
   "metadata": {
    "colab_type": "text",
    "id": "o1uLbJAsoIjK"
   },
   "source": [
    "**2.3. Cleaning the data (part 2)**\n",
    "\n",
    "You might we have to **rename** a couple columns. How do you do this? The clue's pretty bold..."
   ]
  },
  {
   "cell_type": "code",
   "execution_count": 0,
   "metadata": {
    "colab": {},
    "colab_type": "code",
    "id": "GKkmn1AnoVZS"
   },
   "outputs": [],
   "source": []
  },
  {
   "cell_type": "markdown",
   "metadata": {
    "colab_type": "text",
    "id": "jy8BzXHmoWEw"
   },
   "source": [
    "**2.4.Transforming the data**\n",
    "\n",
    "Remember what Wes McKinney said about tidy data? \n",
    "\n",
    "You might need to **melt** your DataFrame here. "
   ]
  },
  {
   "cell_type": "code",
   "execution_count": null,
   "metadata": {},
   "outputs": [],
   "source": []
  },
  {
   "cell_type": "markdown",
   "metadata": {
    "colab_type": "text",
    "id": "7kIsgAo7o3mf"
   },
   "source": [
    "Remember to make sure your column data types are all correct. Average prices, for example, should be floating point numbers... "
   ]
  },
  {
   "cell_type": "code",
   "execution_count": 0,
   "metadata": {
    "colab": {},
    "colab_type": "code",
    "id": "ZcR4IHbcpOaq"
   },
   "outputs": [],
   "source": []
  },
  {
   "cell_type": "markdown",
   "metadata": {
    "colab_type": "text",
    "id": "knLUXHLypOtw"
   },
   "source": [
    "**2.5. Cleaning the data (part 3)**\n",
    "\n",
    "Do we have an equal number of observations in the ID, Average Price, Month, and London Borough columns? Remember that there are only 32 London Boroughs. How many entries do you have in that column? \n",
    "\n",
    "Check out the contents of the London Borough column, and if you find null values, get rid of them however you see fit. "
   ]
  },
  {
   "cell_type": "code",
   "execution_count": null,
   "metadata": {},
   "outputs": [],
   "source": []
  },
  {
   "cell_type": "markdown",
   "metadata": {
    "colab_type": "text",
    "id": "PGEx6mJsp6dG"
   },
   "source": [
    "**2.6. Visualizing the data**\n",
    "\n",
    "To visualize the data, why not subset on a particular London Borough? Maybe do a line plot of Month against Average Price?"
   ]
  },
  {
   "cell_type": "code",
   "execution_count": 8,
   "metadata": {},
   "outputs": [],
   "source": [
    "import seaborn as sns"
   ]
  },
  {
   "cell_type": "code",
   "execution_count": 9,
   "metadata": {},
   "outputs": [],
   "source": [
    "avg_price_month_2022 = properties.loc[('2022','01'):('2022','12'),:]"
   ]
  },
  {
   "cell_type": "code",
   "execution_count": 10,
   "metadata": {},
   "outputs": [
    {
     "data": {
      "text/plain": [
       "Text(0.5, 1.0, 'Average Housing Price in Barnet for 2022')"
      ]
     },
     "execution_count": 10,
     "metadata": {},
     "output_type": "execute_result"
    },
    {
     "data": {
      "image/png": "[encoded data removed]",
      "text/plain": [
       "<Figure size 640x480 with 1 Axes>"
      ]
     },
     "metadata": {},
     "output_type": "display_data"
    }
   ],
   "source": [
    "sns.lineplot(avg_price_month_2022, x='Month', y='Barnet')\n",
    "plt.ylabel('Avg Price')\n",
    "plt.title('Average Housing Price in Barnet for 2022')"
   ]
  },
  {
   "cell_type": "markdown",
   "metadata": {
    "colab_type": "text",
    "id": "aWTPqSJeqHnC"
   },
   "source": [
    "To limit the number of data points you have, you might want to extract the year from every month value your *Month* column. \n",
    "\n",
    "To this end, you *could* apply a ***lambda function***. Your logic could work as follows:\n",
    "1. look through the `Month` column\n",
    "2. extract the year from each individual value in that column \n",
    "3. store that corresponding year as separate column. \n",
    "\n",
    "Whether you go ahead with this is up to you. Just so long as you answer our initial brief: which boroughs of London have seen the greatest house price increase, on average, over the past two decades? "
   ]
  },
  {
   "cell_type": "code",
   "execution_count": 0,
   "metadata": {
    "colab": {},
    "colab_type": "code",
    "id": "e0DF92cyqnu8"
   },
   "outputs": [],
   "source": []
  },
  {
   "cell_type": "markdown",
   "metadata": {
    "colab_type": "text",
    "id": "2knuTxAEqoJ4"
   },
   "source": [
    "**3. Modeling**\n",
    "\n",
    "Consider creating a function that will calculate a ratio of house prices, comparing the price of a house in 2018 to the price in 1998.\n",
    "\n",
    "Consider calling this function create_price_ratio.\n",
    "\n",
    "You'd want this function to:\n",
    "1. Take a filter of dfg, specifically where this filter constrains the London_Borough, as an argument. For example, one admissible argument should be: dfg[dfg['London_Borough']=='Camden'].\n",
    "2. Get the Average Price for that Borough, for the years 1998 and 2018.\n",
    "4. Calculate the ratio of the Average Price for 1998 divided by the Average Price for 2018.\n",
    "5. Return that ratio.\n",
    "\n",
    "Once you've written this function, you ultimately want to use it to iterate through all the unique London_Boroughs and work out the ratio capturing the difference of house prices between 1998 and 2018.\n",
    "\n",
    "Bear in mind: you don't have to write a function like this if you don't want to. If you can solve the brief otherwise, then great! \n",
    "\n",
    "***Hint***: This section should test the skills you acquired in:\n",
    "- Python Data Science Toolbox - Part One, all modules"
   ]
  },
  {
   "cell_type": "code",
   "execution_count": 11,
   "metadata": {},
   "outputs": [
    {
     "data": {
      "text/html": [
       "<div>\n",
       "<style scoped>\n",
       "    .dataframe tbody tr th:only-of-type {\n",
       "        vertical-align: middle;\n",
       "    }\n",
       "\n",
       "    .dataframe tbody tr th {\n",
       "        vertical-align: top;\n",
       "    }\n",
       "\n",
       "    .dataframe thead th {\n",
       "        text-align: right;\n",
       "    }\n",
       "</style>\n",
       "<table border=\"1\" class=\"dataframe\">\n",
       "  <thead>\n",
       "    <tr style=\"text-align: right;\">\n",
       "      <th></th>\n",
       "      <th></th>\n",
       "      <th>Barking &amp; Dagenham</th>\n",
       "      <th>Barnet</th>\n",
       "      <th>Bexley</th>\n",
       "      <th>Brent</th>\n",
       "      <th>Bromley</th>\n",
       "      <th>Camden</th>\n",
       "      <th>Croydon</th>\n",
       "      <th>Ealing</th>\n",
       "      <th>Enfield</th>\n",
       "      <th>Greenwich</th>\n",
       "      <th>...</th>\n",
       "      <th>Merton</th>\n",
       "      <th>Newham</th>\n",
       "      <th>Redbridge</th>\n",
       "      <th>Richmond upon Thames</th>\n",
       "      <th>Southwark</th>\n",
       "      <th>Sutton</th>\n",
       "      <th>Tower Hamlets</th>\n",
       "      <th>Waltham Forest</th>\n",
       "      <th>Wandsworth</th>\n",
       "      <th>Westminster</th>\n",
       "    </tr>\n",
       "    <tr>\n",
       "      <th>Year</th>\n",
       "      <th>Month</th>\n",
       "      <th></th>\n",
       "      <th></th>\n",
       "      <th></th>\n",
       "      <th></th>\n",
       "      <th></th>\n",
       "      <th></th>\n",
       "      <th></th>\n",
       "      <th></th>\n",
       "      <th></th>\n",
       "      <th></th>\n",
       "      <th></th>\n",
       "      <th></th>\n",
       "      <th></th>\n",
       "      <th></th>\n",
       "      <th></th>\n",
       "      <th></th>\n",
       "      <th></th>\n",
       "      <th></th>\n",
       "      <th></th>\n",
       "      <th></th>\n",
       "      <th></th>\n",
       "    </tr>\n",
       "  </thead>\n",
       "  <tbody>\n",
       "    <tr>\n",
       "      <th rowspan=\"3\" valign=\"top\">1995</th>\n",
       "      <th>1</th>\n",
       "      <td>50460.2266</td>\n",
       "      <td>93284.51832</td>\n",
       "      <td>64958.09036</td>\n",
       "      <td>71306.56698</td>\n",
       "      <td>81671.47692</td>\n",
       "      <td>120932.8881</td>\n",
       "      <td>69158.16225</td>\n",
       "      <td>79885.89069</td>\n",
       "      <td>72514.69096</td>\n",
       "      <td>62300.10169</td>\n",
       "      <td>...</td>\n",
       "      <td>82070.6133</td>\n",
       "      <td>53539.31919</td>\n",
       "      <td>72189.58437</td>\n",
       "      <td>109326.1245</td>\n",
       "      <td>67885.20344</td>\n",
       "      <td>71536.97357</td>\n",
       "      <td>59865.18995</td>\n",
       "      <td>61319.44913</td>\n",
       "      <td>88559.04381</td>\n",
       "      <td>133025.2772</td>\n",
       "    </tr>\n",
       "    <tr>\n",
       "      <th>2</th>\n",
       "      <td>51085.77983</td>\n",
       "      <td>93190.16963</td>\n",
       "      <td>64787.92069</td>\n",
       "      <td>72022.26197</td>\n",
       "      <td>81657.55944</td>\n",
       "      <td>119508.8622</td>\n",
       "      <td>68951.09542</td>\n",
       "      <td>80897.06551</td>\n",
       "      <td>73155.19746</td>\n",
       "      <td>60993.26863</td>\n",
       "      <td>...</td>\n",
       "      <td>79982.74872</td>\n",
       "      <td>53153.88306</td>\n",
       "      <td>72141.6261</td>\n",
       "      <td>111103.0394</td>\n",
       "      <td>64799.0648</td>\n",
       "      <td>70893.20851</td>\n",
       "      <td>62318.53353</td>\n",
       "      <td>60252.12246</td>\n",
       "      <td>88641.01678</td>\n",
       "      <td>131468.3096</td>\n",
       "    </tr>\n",
       "    <tr>\n",
       "      <th>3</th>\n",
       "      <td>51268.96956</td>\n",
       "      <td>92247.52435</td>\n",
       "      <td>64367.49344</td>\n",
       "      <td>72015.76274</td>\n",
       "      <td>81449.31143</td>\n",
       "      <td>120282.2131</td>\n",
       "      <td>68712.44341</td>\n",
       "      <td>81379.86288</td>\n",
       "      <td>72190.44144</td>\n",
       "      <td>61377.83464</td>\n",
       "      <td>...</td>\n",
       "      <td>80661.68279</td>\n",
       "      <td>53458.26393</td>\n",
       "      <td>72501.35502</td>\n",
       "      <td>107325.4742</td>\n",
       "      <td>65763.29719</td>\n",
       "      <td>70306.83844</td>\n",
       "      <td>63938.67686</td>\n",
       "      <td>60871.08493</td>\n",
       "      <td>87124.81523</td>\n",
       "      <td>132260.3417</td>\n",
       "    </tr>\n",
       "  </tbody>\n",
       "</table>\n",
       "<p>3 rows × 32 columns</p>\n",
       "</div>"
      ],
      "text/plain": [
       "           Barking & Dagenham       Barnet       Bexley        Brent  \\\n",
       "Year Month                                                             \n",
       "1995 1             50460.2266  93284.51832  64958.09036  71306.56698   \n",
       "     2            51085.77983  93190.16963  64787.92069  72022.26197   \n",
       "     3            51268.96956  92247.52435  64367.49344  72015.76274   \n",
       "\n",
       "                Bromley       Camden      Croydon       Ealing      Enfield  \\\n",
       "Year Month                                                                    \n",
       "1995 1      81671.47692  120932.8881  69158.16225  79885.89069  72514.69096   \n",
       "     2      81657.55944  119508.8622  68951.09542  80897.06551  73155.19746   \n",
       "     3      81449.31143  120282.2131  68712.44341  81379.86288  72190.44144   \n",
       "\n",
       "              Greenwich  ...       Merton       Newham    Redbridge  \\\n",
       "Year Month               ...                                          \n",
       "1995 1      62300.10169  ...   82070.6133  53539.31919  72189.58437   \n",
       "     2      60993.26863  ...  79982.74872  53153.88306   72141.6261   \n",
       "     3      61377.83464  ...  80661.68279  53458.26393  72501.35502   \n",
       "\n",
       "           Richmond upon Thames    Southwark       Sutton Tower Hamlets  \\\n",
       "Year Month                                                                \n",
       "1995 1              109326.1245  67885.20344  71536.97357   59865.18995   \n",
       "     2              111103.0394   64799.0648  70893.20851   62318.53353   \n",
       "     3              107325.4742  65763.29719  70306.83844   63938.67686   \n",
       "\n",
       "           Waltham Forest   Wandsworth  Westminster  \n",
       "Year Month                                           \n",
       "1995 1        61319.44913  88559.04381  133025.2772  \n",
       "     2        60252.12246  88641.01678  131468.3096  \n",
       "     3        60871.08493  87124.81523  132260.3417  \n",
       "\n",
       "[3 rows x 32 columns]"
      ]
     },
     "execution_count": 11,
     "metadata": {},
     "output_type": "execute_result"
    }
   ],
   "source": [
    "properties.head(3)"
   ]
  },
  {
   "cell_type": "code",
   "execution_count": 12,
   "metadata": {
    "colab": {},
    "colab_type": "code",
    "id": "cKTyr437UgDa"
   },
   "outputs": [],
   "source": [
    "price_year = properties.groupby('Year').mean()"
   ]
  },
  {
   "cell_type": "code",
   "execution_count": 13,
   "metadata": {},
   "outputs": [
    {
     "data": {
      "text/html": [
       "<div>\n",
       "<style scoped>\n",
       "    .dataframe tbody tr th:only-of-type {\n",
       "        vertical-align: middle;\n",
       "    }\n",
       "\n",
       "    .dataframe tbody tr th {\n",
       "        vertical-align: top;\n",
       "    }\n",
       "\n",
       "    .dataframe thead th {\n",
       "        text-align: right;\n",
       "    }\n",
       "</style>\n",
       "<table border=\"1\" class=\"dataframe\">\n",
       "  <thead>\n",
       "    <tr style=\"text-align: right;\">\n",
       "      <th></th>\n",
       "      <th>Barking &amp; Dagenham</th>\n",
       "      <th>Barnet</th>\n",
       "      <th>Bexley</th>\n",
       "      <th>Brent</th>\n",
       "      <th>Bromley</th>\n",
       "      <th>Camden</th>\n",
       "      <th>Croydon</th>\n",
       "      <th>Ealing</th>\n",
       "      <th>Enfield</th>\n",
       "      <th>Greenwich</th>\n",
       "      <th>...</th>\n",
       "      <th>Merton</th>\n",
       "      <th>Newham</th>\n",
       "      <th>Redbridge</th>\n",
       "      <th>Richmond upon Thames</th>\n",
       "      <th>Southwark</th>\n",
       "      <th>Sutton</th>\n",
       "      <th>Tower Hamlets</th>\n",
       "      <th>Waltham Forest</th>\n",
       "      <th>Wandsworth</th>\n",
       "      <th>Westminster</th>\n",
       "    </tr>\n",
       "    <tr>\n",
       "      <th>Year</th>\n",
       "      <th></th>\n",
       "      <th></th>\n",
       "      <th></th>\n",
       "      <th></th>\n",
       "      <th></th>\n",
       "      <th></th>\n",
       "      <th></th>\n",
       "      <th></th>\n",
       "      <th></th>\n",
       "      <th></th>\n",
       "      <th></th>\n",
       "      <th></th>\n",
       "      <th></th>\n",
       "      <th></th>\n",
       "      <th></th>\n",
       "      <th></th>\n",
       "      <th></th>\n",
       "      <th></th>\n",
       "      <th></th>\n",
       "      <th></th>\n",
       "      <th></th>\n",
       "    </tr>\n",
       "  </thead>\n",
       "  <tbody>\n",
       "    <tr>\n",
       "      <th>1998</th>\n",
       "      <td>60285.821083</td>\n",
       "      <td>122359.468033</td>\n",
       "      <td>80632.020822</td>\n",
       "      <td>100692.590417</td>\n",
       "      <td>108286.520467</td>\n",
       "      <td>170688.973933</td>\n",
       "      <td>88143.22883</td>\n",
       "      <td>111343.154650</td>\n",
       "      <td>93030.224322</td>\n",
       "      <td>81532.933366</td>\n",
       "      <td>...</td>\n",
       "      <td>108049.855117</td>\n",
       "      <td>67671.270763</td>\n",
       "      <td>94514.395822</td>\n",
       "      <td>162956.066025</td>\n",
       "      <td>91405.187779</td>\n",
       "      <td>92087.045921</td>\n",
       "      <td>96505.166407</td>\n",
       "      <td>75557.474132</td>\n",
       "      <td>125406.807233</td>\n",
       "      <td>1.905319e+05</td>\n",
       "    </tr>\n",
       "    <tr>\n",
       "      <th>2018</th>\n",
       "      <td>295196.673612</td>\n",
       "      <td>533266.534055</td>\n",
       "      <td>342603.605654</td>\n",
       "      <td>492845.371253</td>\n",
       "      <td>443409.985635</td>\n",
       "      <td>842410.409361</td>\n",
       "      <td>370298.54332</td>\n",
       "      <td>480050.544561</td>\n",
       "      <td>396631.717802</td>\n",
       "      <td>388344.325126</td>\n",
       "      <td>...</td>\n",
       "      <td>512293.894570</td>\n",
       "      <td>359022.512777</td>\n",
       "      <td>422591.065915</td>\n",
       "      <td>652665.426320</td>\n",
       "      <td>504235.374945</td>\n",
       "      <td>379262.580582</td>\n",
       "      <td>446500.553785</td>\n",
       "      <td>440859.411128</td>\n",
       "      <td>596649.139044</td>\n",
       "      <td>1.020025e+06</td>\n",
       "    </tr>\n",
       "  </tbody>\n",
       "</table>\n",
       "<p>2 rows × 32 columns</p>\n",
       "</div>"
      ],
      "text/plain": [
       "      Barking & Dagenham         Barnet         Bexley          Brent  \\\n",
       "Year                                                                    \n",
       "1998        60285.821083  122359.468033   80632.020822  100692.590417   \n",
       "2018       295196.673612  533266.534055  342603.605654  492845.371253   \n",
       "\n",
       "            Bromley         Camden       Croydon         Ealing  \\\n",
       "Year                                                              \n",
       "1998  108286.520467  170688.973933   88143.22883  111343.154650   \n",
       "2018  443409.985635  842410.409361  370298.54332  480050.544561   \n",
       "\n",
       "            Enfield      Greenwich  ...         Merton         Newham  \\\n",
       "Year                                ...                                 \n",
       "1998   93030.224322   81532.933366  ...  108049.855117   67671.270763   \n",
       "2018  396631.717802  388344.325126  ...  512293.894570  359022.512777   \n",
       "\n",
       "          Redbridge  Richmond upon Thames      Southwark         Sutton  \\\n",
       "Year                                                                      \n",
       "1998   94514.395822         162956.066025   91405.187779   92087.045921   \n",
       "2018  422591.065915         652665.426320  504235.374945  379262.580582   \n",
       "\n",
       "      Tower Hamlets  Waltham Forest     Wandsworth   Westminster  \n",
       "Year                                                              \n",
       "1998   96505.166407    75557.474132  125406.807233  1.905319e+05  \n",
       "2018  446500.553785   440859.411128  596649.139044  1.020025e+06  \n",
       "\n",
       "[2 rows x 32 columns]"
      ]
     },
     "execution_count": 13,
     "metadata": {},
     "output_type": "execute_result"
    }
   ],
   "source": [
    "price_year.loc[[1998, 2018]]"
   ]
  },
  {
   "cell_type": "code",
   "execution_count": 14,
   "metadata": {},
   "outputs": [
    {
     "data": {
      "text/plain": [
       "Hackney                 6.198286\n",
       "Waltham Forest          5.834756\n",
       "Southwark               5.516485\n",
       "Lewisham                5.449221\n",
       "Westminster             5.353565\n",
       "Newham                  5.305390\n",
       "Haringey                5.134625\n",
       "Kensington & Chelsea    5.082465\n",
       "Lambeth                 4.957751\n",
       "Camden                  4.935353\n",
       "Barking & Dagenham      4.896619\n",
       "Brent                   4.894554\n",
       "Islington               4.844048\n",
       "Greenwich               4.763036\n",
       "Wandsworth              4.757709\n",
       "Merton                  4.741273\n",
       "Tower Hamlets           4.626701\n",
       "Redbridge               4.471182\n",
       "Barnet                  4.358196\n",
       "Havering                4.325230\n",
       "Ealing                  4.311451\n",
       "Kingston upon Thames    4.270550\n",
       "Enfield                 4.263472\n",
       "Bexley                  4.248977\n",
       "Croydon                 4.201100\n",
       "Hillingdon              4.200273\n",
       "Hammersmith & Fulham    4.137798\n",
       "Sutton                  4.118523\n",
       "Bromley                 4.094785\n",
       "Harrow                  4.059196\n",
       "Richmond upon Thames    4.005162\n",
       "Hounslow                3.976409\n",
       "dtype: float64"
      ]
     },
     "execution_count": 14,
     "metadata": {},
     "output_type": "execute_result"
    }
   ],
   "source": [
    "# relative price increase from 1998 to 2018\n",
    "(price_year.loc[2018]/price_year.loc[1998]).sort_values(ascending=False)"
   ]
  },
  {
   "cell_type": "code",
   "execution_count": 15,
   "metadata": {},
   "outputs": [
    {
     "data": {
      "text/plain": [
       "Kensington & Chelsea    1.095530e+06\n",
       "Westminster             8.294933e+05\n",
       "Camden                  6.717214e+05\n",
       "Hammersmith & Fulham    5.501844e+05\n",
       "Islington               5.156751e+05\n",
       "Richmond upon Thames    4.897094e+05\n",
       "Wandsworth              4.712423e+05\n",
       "Hackney                 4.567709e+05\n",
       "Haringey                4.441408e+05\n",
       "Southwark               4.128302e+05\n",
       "Barnet                  4.109071e+05\n",
       "Lambeth                 4.083573e+05\n",
       "Merton                  4.042440e+05\n",
       "Brent                   3.921528e+05\n",
       "Kingston upon Thames    3.806912e+05\n",
       "Ealing                  3.687074e+05\n",
       "Waltham Forest          3.653019e+05\n",
       "Harrow                  3.511292e+05\n",
       "Tower Hamlets           3.499954e+05\n",
       "Lewisham                3.360899e+05\n",
       "Bromley                 3.351235e+05\n",
       "Redbridge               3.280767e+05\n",
       "Hillingdon              3.125900e+05\n",
       "Greenwich               3.068114e+05\n",
       "Enfield                 3.036015e+05\n",
       "Hounslow                2.968851e+05\n",
       "Newham                  2.913512e+05\n",
       "Sutton                  2.871755e+05\n",
       "Havering                2.846467e+05\n",
       "Croydon                 2.821553e+05\n",
       "Bexley                  2.619716e+05\n",
       "Barking & Dagenham      2.349109e+05\n",
       "dtype: float64"
      ]
     },
     "execution_count": 15,
     "metadata": {},
     "output_type": "execute_result"
    }
   ],
   "source": [
    "# absolute price increase from 1998 to 2018\n",
    "(price_year.loc[2018] - price_year.loc[1998]).sort_values(ascending=False)"
   ]
  },
  {
   "cell_type": "markdown",
   "metadata": {
    "colab_type": "text",
    "id": "NzYUI7FxJpgv"
   },
   "source": [
    "### 4. Conclusion\n",
    "What can you conclude? Type out your conclusion below. \n",
    "\n",
    "Look back at your notebook. Think about how you might summarize what you have done, and prepare a quick presentation on it to your mentor at your next meeting. \n",
    "\n",
    "We hope you enjoyed this practical project. It should have consolidated your data hygiene and pandas skills by looking at a real-world problem involving just the kind of dataset you might encounter as a budding data scientist. Congratulations, and looking forward to seeing you at the next step in the course! "
   ]
  },
  {
   "cell_type": "markdown",
   "metadata": {},
   "source": [
    "From 1998 to 2018, Hackney saw the largest relative increase in housing prices with an increase of 520\\%\n",
    "\n",
    "In terms of absolute differences, Kensington \\& Chelsea saw the largest increase of 1,095,530 GBP over the same period"
   ]
  },
  {
   "cell_type": "code",
   "execution_count": null,
   "metadata": {},
   "outputs": [],
   "source": []
  }
 ],
 "metadata": {
  "colab": {
   "collapsed_sections": [],
   "name": "Springboard Data Science Career Track Unit 4 Challenge - Tier 3 Complete .ipynb",
   "provenance": []
  },
  "kernelspec": {
   "display_name": "Python 3 (ipykernel)",
   "language": "python",
   "name": "python3"
  },
  "language_info": {
   "codemirror_mode": {
    "name": "ipython",
    "version": 3
   },
   "file_extension": ".py",
   "mimetype": "text/x-python",
   "name": "python",
   "nbconvert_exporter": "python",
   "pygments_lexer": "ipython3",
   "version": "3.11.4"
  }
 },
 "nbformat": 4,
 "nbformat_minor": 1
}
